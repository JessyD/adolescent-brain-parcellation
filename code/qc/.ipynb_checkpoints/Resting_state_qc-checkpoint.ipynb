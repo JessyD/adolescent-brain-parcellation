{
 "cells": [
  {
   "cell_type": "markdown",
   "id": "bulgarian-basics",
   "metadata": {},
   "source": [
    "# R Notebook to organize and quality control ABCD imaging data"
   ]
  },
  {
   "cell_type": "code",
   "execution_count": 14,
   "id": "massive-river",
   "metadata": {},
   "outputs": [
    {
     "data": {
      "text/html": [
       "'/shared/project-brain-parcellation/adolescent-brain-parcellation/code/qc'"
      ],
      "text/latex": [
       "'/shared/project-brain-parcellation/adolescent-brain-parcellation/code/qc'"
      ],
      "text/markdown": [
       "'/shared/project-brain-parcellation/adolescent-brain-parcellation/code/qc'"
      ],
      "text/plain": [
       "[1] \"/shared/project-brain-parcellation/adolescent-brain-parcellation/code/qc\""
      ]
     },
     "metadata": {},
     "output_type": "display_data"
    }
   ],
   "source": [
    "#setwd(\"shared/project-brain-parcellation\")\n",
    "getwd()\n",
    "library(ggplot2)\n",
    "\n",
    "####### T1 recommended exclusion criteria based off of Fair's criteria\n",
    "#mriqcrp102$iqc_t1_ok_ser > 0 # t1w series passed raw qc\n",
    "#freesqc01$fsqc_qc != 0 # or equals zero? freesurfer qc not failed\n",
    "\n",
    "##### Resting state recommended exclusion criteria based off of Fair's criteria\n",
    "#mriqcrp102$iqc_t1_ok_ser > 0 # t1w series passed raw qc \n",
    "#freesqc01$fsqc_qc != 0 # or equals zero? freesurfer qc not failed\n",
    "#mriqcrp102$iqc_rsfmri_ok_ser > 0 # rsfmri tfMRI series passed raw qc\n",
    "#fmriqc01$fmri_postqc_qc != \"0\" # fmri manual post-processing qc not failed\n",
    "#abcd_betnet02$rsfmri_c_ngd_ntpoints > 375 # rsfmri number of frames > 375\n",
    "#abcd_auto_postqc01$apqc_fmri_bounwarp_flag == \"1\" # fmri B0 unwarp available\n",
    "#abcd_auto_postqc01$apqc_fmri_regt1_rigid < 19 # fmri registration to t1w less than 19\n",
    "#abcd_auto_postqc01$apqc_fmri_fov_cutoff_dorsal < 65 # fmri maximum dorsal cutoff score less than 65\n",
    "#abcd_auto_postqc01$apqc_fmri_fov_cutoff_ventral < 60 # maximum ventral cutoff score less than 60\n"
   ]
  },
  {
   "cell_type": "markdown",
   "id": "environmental-cricket",
   "metadata": {},
   "source": [
    "## Loading all the needed quality control data files"
   ]
  },
  {
   "cell_type": "code",
   "execution_count": 6,
   "id": "stopped-broadcast",
   "metadata": {},
   "outputs": [],
   "source": [
    "#MRI Raw Quality Control\n",
    "mriqc_1 <- read.table(\"../../../data/input/sourcedata/ABCD3/mriqcrp102.txt\", sep=\"\\t\", header=TRUE)\n",
    "mriqc_1 <- mriqc_1[which(mriqc_1$eventname == \"baseline_year_1_arm_1\"), ]\n",
    "mriqc_1 <- mriqc_1[ , c(\"subjectkey\", \"iqc_t1_ok_ser\", \"iqc_rsfmri_ok_ser\")] \n",
    "\n",
    "## Visual qc of freesurfer - consensus from two trained raters\n",
    "freesurfer <- read.table(\"../../../data/input/sourcedata/ABCD3/freesqc01.txt\", sep=\"\\t\", header=TRUE)\n",
    "freesurfer <- freesurfer[which(freesurfer$eventname == \"baseline_year_1_arm_1\"), ]\n",
    "freesurfer <- freesurfer[ , c(\"subjectkey\", \"fsqc_qc\")]\n",
    "\n",
    "## Auto postqc\n",
    "auto_postpro_qc <- read.table(\"../../../data/input/sourcedata/ABCD3/abcd_auto_postqc01.txt\", sep=\"\\t\", header=TRUE)\n",
    "auto_postpro_qc <- auto_postpro_qc[which(auto_postpro_qc$eventname == \"baseline_year_1_arm_1\"), ]\n",
    "auto_postpro_qc <- auto_postpro_qc[ , c(\"subjectkey\", \"apqc_fmri_bounwarp_flag\", \"apqc_fmri_regt1_rigid\", \"apqc_fmri_fov_cutoff_dorsal\", \"apqc_fmri_fov_cutoff_ventral\")]\n",
    "auto_postpro_qc[, 2:5] <- apply(auto_postpro_qc[, 2:5], 2, function(x) as.numeric(x))\n",
    "\n",
    "\n",
    "## Manual post-processing QC \n",
    "manual_qc <- read.table(\"../../../data/input/sourcedata/ABCD3/fmriqc01.txt\", sep=\"\\t\", header=TRUE)\n",
    "manual_qc <- manual_qc[which(manual_qc$eventname == \"baseline_year_1_arm_1\"), ]\n",
    "manual_qc <- manual_qc[ ,c(\"subjectkey\", \"fmri_postqc_qc\")]\n",
    "\n",
    "## Imaging inclusion summary to check that it matches what I find when I do all the steps myself\n",
    "#inclusion_summary <- read.table(\"data/Imaging_Quality_Control/abcd_imgincl01.txt\", sep=\"\\t\", header=TRUE)\n",
    "#inclusion_summary <- inclusion_summary[which(inclusion_summary$eventname == \"baseline_year_1_arm_1\"), ]\n",
    "#inclusion_summary <- inclusion_summary[ ,c(\"subjectkey\", \"imgincl_rsfmri_include\")]\n",
    "#inclusion_summary <- inclusion_summary[which(inclusion_summary$imgincl_rsfmri_include == \"1\"), ]\n"
   ]
  },
  {
   "cell_type": "code",
   "execution_count": 7,
   "id": "modern-championship",
   "metadata": {},
   "outputs": [
    {
     "data": {
      "text/html": [
       "11609"
      ],
      "text/latex": [
       "11609"
      ],
      "text/markdown": [
       "11609"
      ],
      "text/plain": [
       "[1] 11609"
      ]
     },
     "metadata": {},
     "output_type": "display_data"
    },
    {
     "data": {
      "text/html": [
       "11743"
      ],
      "text/latex": [
       "11743"
      ],
      "text/markdown": [
       "11743"
      ],
      "text/plain": [
       "[1] 11743"
      ]
     },
     "metadata": {},
     "output_type": "display_data"
    },
    {
     "data": {
      "text/html": [
       "11761"
      ],
      "text/latex": [
       "11761"
      ],
      "text/markdown": [
       "11761"
      ],
      "text/plain": [
       "[1] 11761"
      ]
     },
     "metadata": {},
     "output_type": "display_data"
    },
    {
     "data": {
      "text/html": [
       "11792"
      ],
      "text/latex": [
       "11792"
      ],
      "text/markdown": [
       "11792"
      ],
      "text/plain": [
       "[1] 11792"
      ]
     },
     "metadata": {},
     "output_type": "display_data"
    }
   ],
   "source": [
    "nrow(manual_qc)\n",
    "nrow(auto_postpro_qc)\n",
    "nrow(freesurfer)\n",
    "nrow(mriqc_1)"
   ]
  },
  {
   "cell_type": "markdown",
   "id": "animal-plain",
   "metadata": {},
   "source": [
    "## Loading the resting state imaging files"
   ]
  },
  {
   "cell_type": "code",
   "execution_count": 11,
   "id": "brave-granny",
   "metadata": {},
   "outputs": [
    {
     "data": {
      "text/html": [
       "11309"
      ],
      "text/latex": [
       "11309"
      ],
      "text/markdown": [
       "11309"
      ],
      "text/plain": [
       "[1] 11309"
      ]
     },
     "metadata": {},
     "output_type": "display_data"
    }
   ],
   "source": [
    "# Gordon Network network correlations\n",
    "# QCing based on Hagler et al, NeuroImage, 2019\n",
    "rs_network <- read.table(\"../../../data/input/sourcedata/ABCD3/abcd_betnet02.txt\", sep=\"\\t\", header=TRUE)\n",
    "rs_network <- rs_network[which(rs_network$eventname == \"baseline_year_1_arm_1\"), ]\n",
    "\n",
    "rs_net <- rs_network[ ,c(\"subjectkey\", \"rsfmri_c_ngd_ntpoints\", \"rsfmri_c_ngd_stnvols\", \"rsfmri_c_ngd_meanmotion\")]\n",
    "\n",
    "#rsfmri_c_ngd_stnvols - Number of frames with FD < 0.2\n",
    "#rsfmri_c_ngd_ntpoints - Number of frames after excluding outlier frames (based on standard deviation across ROIs)\n",
    "# rsfmri_c_ngd_meanmotion - avg framewise displacement in mm\n",
    "\n",
    "nrow(rs_net)"
   ]
  },
  {
   "cell_type": "markdown",
   "id": "compatible-meditation",
   "metadata": {},
   "source": [
    "## Applying quality control to the participants using the Fair criteria"
   ]
  },
  {
   "cell_type": "code",
   "execution_count": 12,
   "id": "offensive-front",
   "metadata": {},
   "outputs": [
    {
     "data": {
      "text/html": [
       "<style>\n",
       ".list-inline {list-style: none; margin:0; padding: 0}\n",
       ".list-inline>li {display: inline-block}\n",
       ".list-inline>li:not(:last-child)::after {content: \"\\00b7\"; padding: 0 .5ex}\n",
       "</style>\n",
       "<ol class=list-inline><li>'subjectkey'</li><li>'fsqc_qc'</li><li>'iqc_t1_ok_ser'</li><li>'iqc_rsfmri_ok_ser'</li></ol>\n"
      ],
      "text/latex": [
       "\\begin{enumerate*}\n",
       "\\item 'subjectkey'\n",
       "\\item 'fsqc\\_qc'\n",
       "\\item 'iqc\\_t1\\_ok\\_ser'\n",
       "\\item 'iqc\\_rsfmri\\_ok\\_ser'\n",
       "\\end{enumerate*}\n"
      ],
      "text/markdown": [
       "1. 'subjectkey'\n",
       "2. 'fsqc_qc'\n",
       "3. 'iqc_t1_ok_ser'\n",
       "4. 'iqc_rsfmri_ok_ser'\n",
       "\n",
       "\n"
      ],
      "text/plain": [
       "[1] \"subjectkey\"        \"fsqc_qc\"           \"iqc_t1_ok_ser\"    \n",
       "[4] \"iqc_rsfmri_ok_ser\""
      ]
     },
     "metadata": {},
     "output_type": "display_data"
    },
    {
     "data": {
      "text/html": [
       "11761"
      ],
      "text/latex": [
       "11761"
      ],
      "text/markdown": [
       "11761"
      ],
      "text/plain": [
       "[1] 11761"
      ]
     },
     "metadata": {},
     "output_type": "display_data"
    },
    {
     "data": {
      "text/html": [
       "11309"
      ],
      "text/latex": [
       "11309"
      ],
      "text/markdown": [
       "11309"
      ],
      "text/plain": [
       "[1] 11309"
      ]
     },
     "metadata": {},
     "output_type": "display_data"
    }
   ],
   "source": [
    "# Merging quality control data for structure\n",
    "mriqc_1$iqc_t1_ok_ser <- as.numeric(mriqc_1$iqc_t1_ok_ser) # Number of series that are complete and passed QC\n",
    "\n",
    "mriqc_1$iqc_rsfmri_ok_ser <- as.numeric(mriqc_1$iqc_rsfmri_ok_ser) # Number of series that are complete and passed QC\n",
    "\n",
    "freesurfer <- merge(freesurfer, mriqc_1, by=\"subjectkey\", all.x = TRUE)\n",
    "\n",
    "\n",
    "names(freesurfer)\n",
    "nrow(freesurfer)\n",
    "\n",
    "# Quality control for resting-state fmri - merging everything\n",
    "rs_net <- merge(rs_net, freesurfer, by=\"subjectkey\", all.x = TRUE) # \n",
    "rs_net <- merge(rs_net, auto_postpro_qc, by=\"subjectkey\", all.x = TRUE) #\n",
    "rs_net <- merge(rs_net, manual_qc, by=\"subjectkey\", all.x = TRUE) # 11309\n",
    "\n",
    "nrow(rs_net)\n",
    "\n",
    "\n",
    "# Number of frames after excluding outlier frames (based on standard deviation across ROIs)\n",
    "#Time points with FD greater than 0.2 mm are excluded from thevariance and correlation calculations. \\\n",
    "#Note that this is a slightly moreconservative threshold than that used for the regression step. \n",
    "#Time pe-riods with fewer thanfive contiguous, sub-threshold time points are alsoexcluded. \n",
    "#The effects of head motion can potentially linger for severalseconds after an abrupt head motion, for example\n",
    "#due to spin-history orT1relaxation effects (Friston et al., 1996), so an additional round ofcensoring is applied \n",
    "#based on detecting time points that are outliers withrespect to spatial variation across the brain. \n",
    "#SD across ROIs is calculatedfor each time point, and outlier time points, defined as having an SDvalue more than \n",
    "#three times the median absolute deviation (MAD) belowor above the median SD value, are excluded from variance and correla-tion calculations.\n",
    "\n",
    "#rs_net <- rs_net[ , c(1, 23:191)]\n",
    "#resting_state <- merge(rs_net, rs_sub, by=\"subjectkey\")"
   ]
  },
  {
   "cell_type": "code",
   "execution_count": 21,
   "id": "productive-detroit",
   "metadata": {},
   "outputs": [
    {
     "data": {
      "text/html": [
       "9387"
      ],
      "text/latex": [
       "9387"
      ],
      "text/markdown": [
       "9387"
      ],
      "text/plain": [
       "[1] 9387"
      ]
     },
     "metadata": {},
     "output_type": "display_data"
    }
   ],
   "source": [
    "# recommended qc\n",
    "rs_net <- rs_net[which(rs_net$iqc_t1_ok_ser > 0), ] #11278\n",
    "rs_net <- rs_net[which(rs_net$iqc_rsfmri_ok_ser > 0), ] #11278\n",
    "rs_net <- rs_net[which(rs_net$fsqc_qc != \"0\"), ] #10855\n",
    "rs_net <- rs_net[which(rs_net$fmri_postqc_qc != \"0\"), ] #10771\n",
    "# Number of frames after excluding outlier frames (based on standard deviation across ROIs)\n",
    "rs_net$rsfmri_c_ngd_ntpoints <- as.numeric(rs_net$rsfmri_c_ngd_ntpoints) \n",
    "rs_net <- rs_net[which(rs_net$rsfmri_c_ngd_ntpoints > 375), ] #9398\n",
    "rs_net <- rs_net[which(rs_net$apqc_fmri_bounwarp_flag == \"1\"), ] #9393\n",
    "rs_net <- rs_net[which(rs_net$apqc_fmri_regt1_rigid < 19), ] #9392\n",
    "rs_net <- rs_net[which(rs_net$apqc_fmri_fov_cutoff_dorsal < 65), ] #9392\n",
    "rs_net <- rs_net[which(rs_net$apqc_fmri_fov_cutoff_ventral < 60), ] #9387\n",
    "nrow(rs_net)\n"
   ]
  },
  {
   "cell_type": "code",
   "execution_count": 20,
   "id": "administrative-moisture",
   "metadata": {},
   "outputs": [
    {
     "data": {
      "text/html": [
       "4007"
      ],
      "text/latex": [
       "4007"
      ],
      "text/markdown": [
       "4007"
      ],
      "text/plain": [
       "[1] 4007"
      ]
     },
     "metadata": {},
     "output_type": "display_data"
    },
    {
     "name": "stderr",
     "output_type": "stream",
     "text": [
      "`stat_bin()` using `bins = 30`. Pick better value with `binwidth`.\n",
      "\n"
     ]
    },
    {
     "data": {
      "image/png": "[encoded data removed]",
      "text/plain": [
       "plot without title"
      ]
     },
     "metadata": {
      "image/png": {
       "height": 420,
       "width": 420
      }
     },
     "output_type": "display_data"
    }
   ],
   "source": [
    "\n",
    "\n",
    "check <- rs_net[which(rs_net$rsfmri_c_ngd_stnvols > 375), ]\n",
    "nrow(check)\n",
    "\n",
    "# plot set up\n",
    "rs_net$rsfmri_c_ngd_meanmotion <- as.numeric(rs_net$rsfmri_c_ngd_meanmotion)\n",
    "rs_net$motion_colour <- ifelse(rs_net$rsfmri_c_ngd_meanmotion < 0.2, \"red\", \"blue\")\n",
    "\n",
    "ggplot(rs_net, aes(x=rsfmri_c_ngd_meanmotion, fill=motion_colour)) +\n",
    "    geom_histogram(alpha=.3, position=\"identity\") +\n",
    "    ggtitle(\"Distribution of average FD in mm\") +\n",
    "    theme(text = element_text(size = 18))\n",
    "\n"
   ]
  },
  {
   "cell_type": "code",
   "execution_count": null,
   "id": "painted-exception",
   "metadata": {},
   "outputs": [],
   "source": []
  },
  {
   "cell_type": "code",
   "execution_count": 24,
   "id": "ongoing-bathroom",
   "metadata": {},
   "outputs": [
    {
     "data": {
      "text/html": [
       "11309"
      ],
      "text/latex": [
       "11309"
      ],
      "text/markdown": [
       "11309"
      ],
      "text/plain": [
       "[1] 11309"
      ]
     },
     "metadata": {},
     "output_type": "display_data"
    },
    {
     "data": {
      "text/html": [
       "5915"
      ],
      "text/latex": [
       "5915"
      ],
      "text/markdown": [
       "5915"
      ],
      "text/plain": [
       "[1] 5915"
      ]
     },
     "metadata": {},
     "output_type": "display_data"
    },
    {
     "data": {
      "text/html": [
       "4519"
      ],
      "text/latex": [
       "4519"
      ],
      "text/markdown": [
       "4519"
      ],
      "text/plain": [
       "[1] 4519"
      ]
     },
     "metadata": {},
     "output_type": "display_data"
    },
    {
     "data": {
      "text/html": [
       "2577"
      ],
      "text/latex": [
       "2577"
      ],
      "text/markdown": [
       "2577"
      ],
      "text/plain": [
       "[1] 2577"
      ]
     },
     "metadata": {},
     "output_type": "display_data"
    }
   ],
   "source": [
    "subjects_qc <- as.data.frame(rs_net[ , \"subjectkey\"])\n",
    "colnames(subjects_qc) <- c(\"subjectkey\")\n",
    "nrow(subjects_qc)\n",
    "write.csv(subjects_qc, file=\"subject_lists/subject_list_qcd_allFD.csv\", row.names=FALSE)\n",
    "\n",
    "subjects_qc <- rs_net[which(rs_net$rsfmri_c_ngd_meanmotion < 0.2), ]\n",
    "subjects_qc <- as.data.frame(subjects_qc[ , \"subjectkey\"])\n",
    "colnames(subjects_qc) <- c(\"subjectkey\")\n",
    "nrow(subjects_qc)\n",
    "write.csv(subjects_qc, file=\"subject_lists/subject_list_qcd_FD-0.2.csv\", row.names=FALSE)\n",
    "\n",
    "subjects_qc <- rs_net[which(rs_net$rsfmri_c_ngd_meanmotion < 0.15), ]\n",
    "subjects_qc <- as.data.frame(subjects_qc[ , \"subjectkey\"])\n",
    "colnames(subjects_qc) <- c(\"subjectkey\")\n",
    "nrow(subjects_qc)\n",
    "write.csv(subjects_qc, file=\"subject_lists/subject_list_qcd_FD-0.15.csv\", row.names=FALSE)\n",
    "\n",
    "subjects_qc <- rs_net[which(rs_net$rsfmri_c_ngd_meanmotion < 0.1), ]\n",
    "subjects_qc <- as.data.frame(subjects_qc[ , \"subjectkey\"])\n",
    "colnames(subjects_qc) <- c(\"subjectkey\")\n",
    "nrow(subjects_qc)\n",
    "write.csv(subjects_qc, file=\"subject_lists/subject_list_qcd_FD-0.1.csv\", row.names=FALSE)\n"
   ]
  },
  {
   "cell_type": "markdown",
   "id": "pressing-pharmacy",
   "metadata": {},
   "source": [
    "### Checking if missing files are philips"
   ]
  },
  {
   "cell_type": "code",
   "execution_count": 31,
   "id": "disciplinary-candidate",
   "metadata": {},
   "outputs": [
    {
     "data": {
      "text/html": [
       "<style>\n",
       ".list-inline {list-style: none; margin:0; padding: 0}\n",
       ".list-inline>li {display: inline-block}\n",
       ".list-inline>li:not(:last-child)::after {content: \"\\00b7\"; padding: 0 .5ex}\n",
       "</style>\n",
       "<ol class=list-inline><li>'collection_id'</li><li>'fmriqc01_id'</li><li>'dataset_id'</li><li>'subjectkey'</li><li>'src_subject_id'</li><li>'interview_date'</li><li>'interview_age'</li><li>'sex'</li><li>'eventname'</li><li>'visit'</li><li>'fmri_postqc_containertype'</li><li>'fmri_postqc_stype'</li><li>'fmri_postqc_nrev'</li><li>'fmri_postqc_revdisp'</li><li>'fmri_postqc_qc'</li><li>'fmri_postqc_regt1'</li><li>'fmri_postqc_b0warp'</li><li>'fmri_postqc_imgqual'</li><li>'fmri_postqc_cutoff'</li><li>'fmri_postqc_notes'</li><li>'collection_title'</li><li>'study_cohort_name'</li></ol>\n"
      ],
      "text/latex": [
       "\\begin{enumerate*}\n",
       "\\item 'collection\\_id'\n",
       "\\item 'fmriqc01\\_id'\n",
       "\\item 'dataset\\_id'\n",
       "\\item 'subjectkey'\n",
       "\\item 'src\\_subject\\_id'\n",
       "\\item 'interview\\_date'\n",
       "\\item 'interview\\_age'\n",
       "\\item 'sex'\n",
       "\\item 'eventname'\n",
       "\\item 'visit'\n",
       "\\item 'fmri\\_postqc\\_containertype'\n",
       "\\item 'fmri\\_postqc\\_stype'\n",
       "\\item 'fmri\\_postqc\\_nrev'\n",
       "\\item 'fmri\\_postqc\\_revdisp'\n",
       "\\item 'fmri\\_postqc\\_qc'\n",
       "\\item 'fmri\\_postqc\\_regt1'\n",
       "\\item 'fmri\\_postqc\\_b0warp'\n",
       "\\item 'fmri\\_postqc\\_imgqual'\n",
       "\\item 'fmri\\_postqc\\_cutoff'\n",
       "\\item 'fmri\\_postqc\\_notes'\n",
       "\\item 'collection\\_title'\n",
       "\\item 'study\\_cohort\\_name'\n",
       "\\end{enumerate*}\n"
      ],
      "text/markdown": [
       "1. 'collection_id'\n",
       "2. 'fmriqc01_id'\n",
       "3. 'dataset_id'\n",
       "4. 'subjectkey'\n",
       "5. 'src_subject_id'\n",
       "6. 'interview_date'\n",
       "7. 'interview_age'\n",
       "8. 'sex'\n",
       "9. 'eventname'\n",
       "10. 'visit'\n",
       "11. 'fmri_postqc_containertype'\n",
       "12. 'fmri_postqc_stype'\n",
       "13. 'fmri_postqc_nrev'\n",
       "14. 'fmri_postqc_revdisp'\n",
       "15. 'fmri_postqc_qc'\n",
       "16. 'fmri_postqc_regt1'\n",
       "17. 'fmri_postqc_b0warp'\n",
       "18. 'fmri_postqc_imgqual'\n",
       "19. 'fmri_postqc_cutoff'\n",
       "20. 'fmri_postqc_notes'\n",
       "21. 'collection_title'\n",
       "22. 'study_cohort_name'\n",
       "\n",
       "\n"
      ],
      "text/plain": [
       " [1] \"collection_id\"             \"fmriqc01_id\"              \n",
       " [3] \"dataset_id\"                \"subjectkey\"               \n",
       " [5] \"src_subject_id\"            \"interview_date\"           \n",
       " [7] \"interview_age\"             \"sex\"                      \n",
       " [9] \"eventname\"                 \"visit\"                    \n",
       "[11] \"fmri_postqc_containertype\" \"fmri_postqc_stype\"        \n",
       "[13] \"fmri_postqc_nrev\"          \"fmri_postqc_revdisp\"      \n",
       "[15] \"fmri_postqc_qc\"            \"fmri_postqc_regt1\"        \n",
       "[17] \"fmri_postqc_b0warp\"        \"fmri_postqc_imgqual\"      \n",
       "[19] \"fmri_postqc_cutoff\"        \"fmri_postqc_notes\"        \n",
       "[21] \"collection_title\"          \"study_cohort_name\"        "
      ]
     },
     "metadata": {},
     "output_type": "display_data"
    }
   ],
   "source": [
    "mriqc_1 <- read.table(\"../../../data/input/sourcedata/ABCD3/fmriqc01.txt\", sep=\"\\t\", header=TRUE)\n",
    "names(mriqc_1)"
   ]
  },
  {
   "cell_type": "code",
   "execution_count": 29,
   "id": "pregnant-pointer",
   "metadata": {},
   "outputs": [
    {
     "name": "stderr",
     "output_type": "stream",
     "text": [
      "Warning message in file(file, \"rt\"):\n",
      "“cannot open file '../../../data/input/sourcedata/ABCD3/abcd_mri01.txt': No such file or directory”\n"
     ]
    },
    {
     "ename": "ERROR",
     "evalue": "Error in file(file, \"rt\"): cannot open the connection\n",
     "output_type": "error",
     "traceback": [
      "Error in file(file, \"rt\"): cannot open the connection\nTraceback:\n",
      "1. read.table(\"../../../data/input/sourcedata/ABCD3/abcd_mri01.txt\", \n .     sep = \"\\t\", header = TRUE)",
      "2. file(file, \"rt\")"
     ]
    }
   ],
   "source": [
    "# to check if the missing files are philips kids\n",
    "\n",
    "###### scanner - don't actually need this because not removing Philips people for v.03 data\n",
    "scanner <- read.table(\"../../../data/input/sourcedata/ABCD3/abcd_mri01.txt\", sep=\"\\t\", header=TRUE) # 11753\n",
    "scanner <- scanner[which(scanner$eventname == \"baseline_year_1_arm_1\"), ]\n",
    "scanner <- scanner[ , c(\"subjectkey\", \"mri_info_manufacturer\")]\n",
    "\n",
    "subs <- read.csv(\"downloaded_subs.csv\", header=FALSE)\n",
    "names(subs)"
   ]
  },
  {
   "cell_type": "code",
   "execution_count": null,
   "id": "meaningful-intensity",
   "metadata": {},
   "outputs": [],
   "source": []
  }
 ],
 "metadata": {
  "kernelspec": {
   "display_name": "R",
   "language": "R",
   "name": "ir"
  },
  "language_info": {
   "codemirror_mode": "r",
   "file_extension": ".r",
   "mimetype": "text/x-r-source",
   "name": "R",
   "pygments_lexer": "r",
   "version": "4.0.3"
  }
 },
 "nbformat": 4,
 "nbformat_minor": 5
}
