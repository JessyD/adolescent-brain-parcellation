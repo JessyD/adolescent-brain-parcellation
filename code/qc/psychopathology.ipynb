{
 "cells": [
  {
   "cell_type": "markdown",
   "id": "mexican-diagnosis",
   "metadata": {},
   "source": [
    "# R Notebook - code to exclude children with psychopathology\n",
    "### Variables of interest, element names, structnames\n",
    "1. CBCL - cuttof T score > 63 (based on clinical threshold: https://aseba.org/wp-content/uploads/2019/02/cbclprofile.pdf)\n",
    "    1. cbcl_scr_syn_internal_t - abcd_cbcls01\n",
    "    1. cbcl_scr_syn_external_t - abcd_cbcls01\n",
    "    1. cbcl_scr_syn_totprob_t - abcd_cbcls01\n",
    "1. KSADS Diagnosis Parent - exclude if == 1\n",
    "    1. ksads_*_p - abcd_ksad01.txt \n",
    "1. Short Social Responsiveness Scale (Not clear what cutoff to apply: Nguyen et al. 2019; short version raw cutoff of 15, but is 16 items while ABCD has 11)\n",
    "     1. ssrs_p_ss_sum - abcd_mhp02.txt"
   ]
  },
  {
   "cell_type": "code",
   "execution_count": 1,
   "id": "satisfactory-determination",
   "metadata": {},
   "outputs": [
    {
     "name": "stderr",
     "output_type": "stream",
     "text": [
      "also installing the dependencies ‘gridExtra’, ‘visdat’, ‘viridis’, ‘UpSetR’\n",
      "\n",
      "\n",
      "Updating HTML index of packages in '.Library'\n",
      "\n",
      "Making 'packages.html' ...\n",
      " done\n",
      "\n"
     ]
    }
   ],
   "source": [
    "## install dependendies\n",
    "install.packages(\"naniar\")"
   ]
  },
  {
   "cell_type": "code",
   "execution_count": 3,
   "id": "supported-massage",
   "metadata": {},
   "outputs": [
    {
     "data": {
      "text/html": [
       "'/shared/project-brain-parcellation'"
      ],
      "text/latex": [
       "'/shared/project-brain-parcellation'"
      ],
      "text/markdown": [
       "'/shared/project-brain-parcellation'"
      ],
      "text/plain": [
       "[1] \"/shared/project-brain-parcellation\""
      ]
     },
     "metadata": {},
     "output_type": "display_data"
    }
   ],
   "source": [
    "#set working directory\n",
    "#setwd(\"~/project-brain-parcellation/\")\n",
    "getwd()"
   ]
  },
  {
   "cell_type": "code",
   "execution_count": 4,
   "id": "median-buffalo",
   "metadata": {},
   "outputs": [
    {
     "name": "stdout",
     "output_type": "stream",
     "text": [
      "'data.frame':\t11878 obs. of  4 variables:\n",
      " $ subjectkey             : chr  \"NDAR_INV003RTV85\" \"NDAR_INV00LH735Y\" \"NDAR_INV01NAYMZH\" \"NDAR_INV030W95VP\" ...\n",
      " $ cbcl_scr_syn_internal_t: num  39 50 41 46 33 41 33 50 69 54 ...\n",
      " $ cbcl_scr_syn_external_t: num  41 44 50 51 53 48 34 61 51 40 ...\n",
      " $ cbcl_scr_syn_totprob_t : num  36 41 45 46 39 45 25 59 57 44 ...\n"
     ]
    }
   ],
   "source": [
    "# Retrieve CBCL baseline data\n",
    "cbcl <- read.table(\"data/input/sourcedata/ABCD3/abcd_cbcls01.txt\", sep=\"\\t\", header=TRUE)\n",
    "cbcl <- cbcl[which(cbcl$eventname == \"baseline_year_1_arm_1\"), ]\n",
    "cbcl <- cbcl[ , c(\"subjectkey\", \"cbcl_scr_syn_internal_t\", \"cbcl_scr_syn_external_t\", \"cbcl_scr_syn_totprob_t\")] \n",
    "names1 <- c(2:4)\n",
    "cbcl[names1] <- sapply(cbcl[names1], as.numeric)\n",
    "str(cbcl)"
   ]
  },
  {
   "cell_type": "code",
   "execution_count": 8,
   "id": "ongoing-mongolia",
   "metadata": {},
   "outputs": [],
   "source": [
    "# Retrieve KSADS Diagnosis variable names\n",
    "abcd <- read.csv(\"data/input/sourcedata/ABCD3/data_elements.tsv\", sep=\"\\t\", header=TRUE) #all element, description and structures\n",
    "abcd <- abcd[grep(\"abcd_ksad01\", abcd$structure),]    #keep abcd_ksad01 variables only\n",
    "abcd <- abcd[grep(\"^ksads.*_p$\", abcd$element), ]     #keep rows with element that starts with ksads and ends with _p\n",
    "abcd <- abcd[grep(\"^Diagnosis\", abcd$description), ]  #keep rows with description that starts with Diagnosis\n",
    "ksads_list <- abcd$element #list of all variable names with parental ksad diagnosis\n",
    "\n",
    "# Create dataframe KSADS diagnosis items\n",
    "ksads <- read.table(\"data/input/sourcedata/ABCD3/abcd_ksad01.txt\", sep=\"\\t\", header=TRUE)\n",
    "ksads <- ksads[which(ksads$eventname == \"baseline_year_1_arm_1\"), ]\n",
    "subjectkey <- ksads$subjectkey\n",
    "ksads <- subset(ksads, select = ksads_list)"
   ]
  },
  {
   "cell_type": "code",
   "execution_count": 9,
   "id": "afraid-bread",
   "metadata": {},
   "outputs": [],
   "source": [
    "# change value 555 and 888 to NA\n",
    "ksads[(ksads == 555) | (ksads==888)] <- NA\n",
    "\n",
    "# datatype to factor \n",
    "names2 <- c(1:145)\n",
    "ksads[names2] <- lapply(ksads[names2], factor) #categorical variables\n",
    "\n",
    "#remove colums with single value in all rows\n",
    "ksads <- ksads[, sapply(ksads, nlevels) > 1]\n"
   ]
  },
  {
   "cell_type": "code",
   "execution_count": 10,
   "id": "joint-preparation",
   "metadata": {},
   "outputs": [
    {
     "name": "stdout",
     "output_type": "stream",
     "text": [
      "'data.frame':\t11878 obs. of  103 variables:\n",
      " $ subjectkey    : chr  \"NDAR_INV005V6D2C\" \"NDAR_INV019DXLU4\" \"NDAR_INV00HEV6HB\" \"NDAR_INV00J52GPG\" ...\n",
      " $ ksads_1_845_p : Factor w/ 2 levels \"0\",\"1\": 1 1 1 1 1 1 1 1 1 1 ...\n",
      " $ ksads_1_840_p : Factor w/ 2 levels \"0\",\"1\": 1 1 1 1 1 1 1 1 1 1 ...\n",
      " $ ksads_1_841_p : Factor w/ 2 levels \"0\",\"1\": 1 1 1 1 1 1 1 1 1 1 ...\n",
      " $ ksads_1_842_p : Factor w/ 2 levels \"0\",\"1\": 1 1 1 1 1 1 1 1 1 1 ...\n",
      " $ ksads_1_847_p : Factor w/ 2 levels \"0\",\"1\": 1 1 1 1 1 1 1 1 1 1 ...\n",
      " $ ksads_1_846_p : Factor w/ 2 levels \"0\",\"1\": 1 1 1 1 1 1 1 1 1 1 ...\n",
      " $ ksads_2_837_p : Factor w/ 2 levels \"0\",\"1\": 1 1 1 1 1 1 1 1 1 1 ...\n",
      " $ ksads_2_836_p : Factor w/ 2 levels \"0\",\"1\": 1 1 1 1 1 1 1 1 1 1 ...\n",
      " $ ksads_2_831_p : Factor w/ 2 levels \"0\",\"1\": 1 1 1 1 1 1 1 1 1 1 ...\n",
      " $ ksads_2_832_p : Factor w/ 2 levels \"0\",\"1\": 1 1 1 1 1 1 1 1 1 1 ...\n",
      " $ ksads_2_830_p : Factor w/ 2 levels \"0\",\"1\": 1 1 1 1 1 1 1 1 1 1 ...\n",
      " $ ksads_2_833_p : Factor w/ 2 levels \"0\",\"1\": 1 1 1 1 1 1 1 1 1 1 ...\n",
      " $ ksads_2_834_p : Factor w/ 2 levels \"0\",\"1\": 1 1 1 1 1 1 1 1 1 1 ...\n",
      " $ ksads_2_839_p : Factor w/ 2 levels \"0\",\"1\": 1 1 1 1 1 1 1 1 1 1 ...\n",
      " $ ksads_2_838_p : Factor w/ 2 levels \"0\",\"1\": 1 1 1 1 1 1 1 1 1 1 ...\n",
      " $ ksads_3_848_p : Factor w/ 2 levels \"0\",\"1\": NA 1 1 NA 1 NA 1 1 1 1 ...\n",
      " $ ksads_4_851_p : Factor w/ 2 levels \"0\",\"1\": 1 1 1 1 1 1 1 1 1 1 ...\n",
      " $ ksads_4_852_p : Factor w/ 2 levels \"0\",\"1\": 1 1 1 1 1 1 1 1 1 1 ...\n",
      " $ ksads_4_826_p : Factor w/ 2 levels \"0\",\"1\": 1 1 1 1 1 1 1 1 1 1 ...\n",
      " $ ksads_4_827_p : Factor w/ 2 levels \"0\",\"1\": 1 1 1 1 1 1 1 1 1 1 ...\n",
      " $ ksads_4_829_p : Factor w/ 2 levels \"0\",\"1\": 1 1 1 1 1 1 1 1 1 1 ...\n",
      " $ ksads_4_828_p : Factor w/ 2 levels \"0\",\"1\": 1 1 1 1 1 1 1 1 1 1 ...\n",
      " $ ksads_4_850_p : Factor w/ 2 levels \"0\",\"1\": 1 1 1 1 1 1 1 1 1 1 ...\n",
      " $ ksads_4_849_p : Factor w/ 2 levels \"0\",\"1\": 1 1 1 1 1 1 1 1 1 1 ...\n",
      " $ ksads_5_906_p : Factor w/ 2 levels \"0\",\"1\": 1 1 1 1 1 1 1 1 1 1 ...\n",
      " $ ksads_5_907_p : Factor w/ 2 levels \"0\",\"1\": 1 1 1 1 1 1 1 1 1 1 ...\n",
      " $ ksads_5_857_p : Factor w/ 2 levels \"0\",\"1\": 1 1 1 1 1 1 1 1 1 1 ...\n",
      " $ ksads_5_858_p : Factor w/ 2 levels \"0\",\"1\": 1 1 1 1 1 1 1 1 1 1 ...\n",
      " $ ksads_6_859_p : Factor w/ 2 levels \"0\",\"1\": NA 1 1 NA 1 NA 1 1 1 1 ...\n",
      " $ ksads_6_860_p : Factor w/ 2 levels \"0\",\"1\": NA 1 1 NA 1 NA 1 1 1 1 ...\n",
      " $ ksads_7_861_p : Factor w/ 2 levels \"0\",\"1\": 1 1 1 1 1 1 1 1 1 1 ...\n",
      " $ ksads_7_909_p : Factor w/ 2 levels \"0\",\"1\": 1 1 1 1 1 1 1 1 1 1 ...\n",
      " $ ksads_7_910_p : Factor w/ 2 levels \"0\",\"1\": 1 1 1 1 1 1 1 1 1 1 ...\n",
      " $ ksads_7_862_p : Factor w/ 2 levels \"0\",\"1\": 1 1 1 1 1 1 1 1 1 1 ...\n",
      " $ ksads_8_864_p : Factor w/ 2 levels \"0\",\"1\": 1 1 1 1 1 1 1 1 1 1 ...\n",
      " $ ksads_8_863_p : Factor w/ 2 levels \"0\",\"1\": 1 1 1 1 1 1 1 1 1 1 ...\n",
      " $ ksads_8_912_p : Factor w/ 2 levels \"0\",\"1\": 1 1 1 1 2 1 1 1 1 1 ...\n",
      " $ ksads_9_868_p : Factor w/ 2 levels \"0\",\"1\": 1 2 1 1 1 1 2 1 1 2 ...\n",
      " $ ksads_9_867_p : Factor w/ 2 levels \"0\",\"1\": 1 1 1 1 1 1 1 1 1 1 ...\n",
      " $ ksads_10_914_p: Factor w/ 2 levels \"0\",\"1\": 1 1 1 1 1 1 1 1 1 1 ...\n",
      " $ ksads_10_913_p: Factor w/ 2 levels \"0\",\"1\": 1 1 1 1 1 1 1 1 1 1 ...\n",
      " $ ksads_10_869_p: Factor w/ 2 levels \"0\",\"1\": 1 1 1 1 1 1 1 1 1 1 ...\n",
      " $ ksads_10_870_p: Factor w/ 2 levels \"0\",\"1\": 1 1 1 1 1 1 1 1 1 1 ...\n",
      " $ ksads_11_917_p: Factor w/ 2 levels \"0\",\"1\": 1 2 1 1 1 1 1 1 1 1 ...\n",
      " $ ksads_11_918_p: Factor w/ 2 levels \"0\",\"1\": 1 1 1 1 1 1 1 1 1 1 ...\n",
      " $ ksads_11_919_p: Factor w/ 2 levels \"0\",\"1\": 1 1 1 1 1 1 1 1 1 1 ...\n",
      " $ ksads_11_920_p: Factor w/ 2 levels \"0\",\"1\": 1 1 1 1 1 1 1 1 1 1 ...\n",
      " $ ksads_13_938_p: Factor w/ 2 levels \"0\",\"1\": 1 1 1 1 1 1 1 1 1 1 ...\n",
      " $ ksads_13_934_p: Factor w/ 2 levels \"0\",\"1\": 1 1 1 1 1 1 1 1 1 1 ...\n",
      " $ ksads_13_933_p: Factor w/ 2 levels \"0\",\"1\": 1 1 1 1 1 1 1 1 1 1 ...\n",
      " $ ksads_13_932_p: Factor w/ 2 levels \"0\",\"1\": 1 1 1 1 1 1 1 1 1 1 ...\n",
      " $ ksads_13_936_p: Factor w/ 2 levels \"0\",\"1\": 1 1 1 1 1 1 1 1 1 1 ...\n",
      " $ ksads_13_935_p: Factor w/ 2 levels \"0\",\"1\": 1 1 1 1 1 1 1 1 1 1 ...\n",
      " $ ksads_13_940_p: Factor w/ 2 levels \"0\",\"1\": 1 1 1 1 1 1 1 1 1 1 ...\n",
      " $ ksads_13_943_p: Factor w/ 2 levels \"0\",\"1\": 1 1 1 1 1 1 1 1 1 1 ...\n",
      " $ ksads_13_942_p: Factor w/ 2 levels \"0\",\"1\": 1 1 1 1 1 1 1 1 1 1 ...\n",
      " $ ksads_13_944_p: Factor w/ 2 levels \"0\",\"1\": 1 1 1 1 1 1 1 1 1 1 ...\n",
      " $ ksads_13_941_p: Factor w/ 2 levels \"0\",\"1\": 1 1 1 1 1 1 1 1 1 1 ...\n",
      " $ ksads_14_856_p: Factor w/ 2 levels \"0\",\"1\": 1 2 1 1 1 1 1 1 1 1 ...\n",
      " $ ksads_14_855_p: Factor w/ 2 levels \"0\",\"1\": 1 1 1 1 1 1 1 1 1 1 ...\n",
      " $ ksads_14_853_p: Factor w/ 2 levels \"0\",\"1\": 1 1 1 1 1 1 1 1 1 1 ...\n",
      " $ ksads_14_854_p: Factor w/ 2 levels \"0\",\"1\": 1 1 1 1 1 1 1 1 1 1 ...\n",
      " $ ksads_15_901_p: Factor w/ 2 levels \"0\",\"1\": 1 1 1 1 1 1 1 1 1 1 ...\n",
      " $ ksads_15_902_p: Factor w/ 2 levels \"0\",\"1\": 1 1 1 1 1 1 1 1 1 1 ...\n",
      " $ ksads_16_900_p: Factor w/ 2 levels \"0\",\"1\": 1 1 1 1 1 1 1 1 1 1 ...\n",
      " $ ksads_16_897_p: Factor w/ 2 levels \"0\",\"1\": 1 1 1 1 1 1 1 1 1 1 ...\n",
      " $ ksads_16_899_p: Factor w/ 2 levels \"0\",\"1\": 1 1 1 1 1 1 1 1 1 1 ...\n",
      " $ ksads_16_898_p: Factor w/ 2 levels \"0\",\"1\": 1 1 1 1 1 1 1 1 1 1 ...\n",
      " $ ksads_18_903_p: Factor w/ 2 levels \"0\",\"1\": 1 1 1 2 1 1 1 1 2 1 ...\n",
      " $ ksads_20_893_p: Factor w/ 2 levels \"0\",\"1\": 1 1 1 1 1 1 1 1 1 1 ...\n",
      " $ ksads_20_872_p: Factor w/ 2 levels \"0\",\"1\": 1 1 1 1 1 1 1 1 1 1 ...\n",
      " $ ksads_20_881_p: Factor w/ 2 levels \"0\",\"1\": 1 1 1 1 1 1 1 1 1 1 ...\n",
      " $ ksads_20_889_p: Factor w/ 2 levels \"0\",\"1\": 1 1 1 1 1 1 1 1 1 1 ...\n",
      " $ ksads_20_879_p: Factor w/ 2 levels \"0\",\"1\": 1 1 1 1 1 1 1 1 1 1 ...\n",
      " $ ksads_20_882_p: Factor w/ 2 levels \"0\",\"1\": 1 1 1 1 1 1 1 1 1 1 ...\n",
      " $ ksads_21_923_p: Factor w/ 2 levels \"0\",\"1\": 1 1 1 1 1 1 1 1 1 1 ...\n",
      " $ ksads_21_924_p: Factor w/ 2 levels \"0\",\"1\": 1 2 1 1 1 1 1 1 1 1 ...\n",
      " $ ksads_21_921_p: Factor w/ 2 levels \"0\",\"1\": 1 1 1 1 1 1 1 1 1 1 ...\n",
      " $ ksads_21_922_p: Factor w/ 2 levels \"0\",\"1\": 1 1 1 1 1 1 1 1 1 1 ...\n",
      " $ ksads_22_970_p: Factor w/ 2 levels \"0\",\"1\": 1 2 1 2 1 1 1 1 1 1 ...\n",
      " $ ksads_22_969_p: Factor w/ 2 levels \"0\",\"1\": 1 1 1 1 1 1 1 1 1 1 ...\n",
      " $ ksads_23_946_p: Factor w/ 2 levels \"0\",\"1\": 1 1 1 1 1 1 1 1 1 1 ...\n",
      " $ ksads_23_957_p: Factor w/ 2 levels \"0\",\"1\": 1 1 2 1 1 1 1 1 1 1 ...\n",
      " $ ksads_23_954_p: Factor w/ 2 levels \"0\",\"1\": 1 1 1 1 1 1 1 1 1 1 ...\n",
      " $ ksads_23_965_p: Factor w/ 2 levels \"0\",\"1\": 1 1 1 1 1 1 1 1 1 1 ...\n",
      " $ ksads_23_956_p: Factor w/ 2 levels \"0\",\"1\": 1 1 1 1 1 1 1 1 1 1 ...\n",
      " $ ksads_23_945_p: Factor w/ 2 levels \"0\",\"1\": 1 1 1 1 1 1 1 1 1 1 ...\n",
      " $ ksads_23_950_p: Factor w/ 2 levels \"0\",\"1\": 1 1 1 1 1 1 1 1 1 1 ...\n",
      " $ ksads_23_961_p: Factor w/ 2 levels \"0\",\"1\": 1 1 1 1 1 1 1 1 1 1 ...\n",
      " $ ksads_23_947_p: Factor w/ 2 levels \"0\",\"1\": 1 1 1 1 1 1 1 1 1 1 ...\n",
      " $ ksads_23_958_p: Factor w/ 2 levels \"0\",\"1\": 1 1 1 1 1 1 1 1 1 1 ...\n",
      " $ ksads_23_948_p: Factor w/ 2 levels \"0\",\"1\": 1 1 1 1 1 1 1 1 1 1 ...\n",
      " $ ksads_23_959_p: Factor w/ 2 levels \"0\",\"1\": 1 1 1 1 1 1 1 1 1 1 ...\n",
      " $ ksads_23_949_p: Factor w/ 2 levels \"0\",\"1\": 1 1 1 1 1 1 1 1 1 1 ...\n",
      " $ ksads_23_960_p: Factor w/ 2 levels \"0\",\"1\": 1 1 1 1 1 1 1 1 1 1 ...\n",
      " $ ksads_23_963_p: Factor w/ 2 levels \"0\",\"1\": 1 1 1 1 1 1 1 1 1 1 ...\n",
      " $ ksads_23_951_p: Factor w/ 2 levels \"0\",\"1\": 1 1 1 1 1 1 1 1 1 1 ...\n",
      " $ ksads_23_962_p: Factor w/ 2 levels \"0\",\"1\": 1 1 1 1 1 1 1 1 1 1 ...\n",
      "  [list output truncated]\n"
     ]
    }
   ],
   "source": [
    "df1 <- cbind(subjectkey, ksads)\n",
    "str(df1)"
   ]
  },
  {
   "cell_type": "code",
   "execution_count": 14,
   "id": "advised-packing",
   "metadata": {},
   "outputs": [],
   "source": [
    "# Retrieve SSRS items variable names\n",
    "items <- read.csv(\"data/input/sourcedata/ABCD3/data_elements.tsv\", sep=\"\\t\", header=TRUE) #all element, description and structures\n",
    "items <- items[grep(\"^ssrs.*_p$\", items$element),]    #keep abcd_ksad01 variables only\n",
    "items_list <- items$element #list of all individual item names ssrs \n",
    "\n",
    "# Create dataframe ssrs item data\n",
    "ssrs <- read.table(\"data/input/sourcedata/ABCD3/abcd_pssrs01.txt\", sep=\"\\t\", header=TRUE)\n",
    "subjectkey <- ssrs$subjectkey\n",
    "ssrs1 <- subset(ssrs, select = items_list)\n",
    "df2 <- cbind(subjectkey, ssrs1)\n",
    "df2 <- df2[-1,] #remove first row with descriptions\n",
    "\n",
    "# Create ssrs_sum variable\n",
    "names3 <- c(2:12) #ssrs columns\n",
    "df2[names3] <- sapply(df2[names3], as.numeric) #change to numeric\n",
    "df2$ssrs_sum <-rowSums(df2[names3]) #create ssrs_sum \n",
    "df2 <- df2[, c(\"subjectkey\", \"ssrs_sum\")]"
   ]
  },
  {
   "cell_type": "code",
   "execution_count": 15,
   "id": "confirmed-mounting",
   "metadata": {},
   "outputs": [
    {
     "name": "stdout",
     "output_type": "stream",
     "text": [
      "'data.frame':\t11235 obs. of  107 variables:\n",
      " $ subjectkey             : chr  \"NDAR_INV003RTV85\" \"NDAR_INV005V6D2C\" \"NDAR_INV00BD7VDC\" \"NDAR_INV00CY2MDM\" ...\n",
      " $ cbcl_scr_syn_internal_t: num  39 39 52 52 54 34 50 45 73 50 ...\n",
      " $ cbcl_scr_syn_external_t: num  41 34 46 66 53 40 44 68 47 51 ...\n",
      " $ cbcl_scr_syn_totprob_t : num  36 32 49 58 51 44 41 62 62 48 ...\n",
      " $ ksads_1_845_p          : Factor w/ 2 levels \"0\",\"1\": 1 1 1 1 1 1 1 1 1 1 ...\n",
      " $ ksads_1_840_p          : Factor w/ 2 levels \"0\",\"1\": 1 1 1 1 1 1 1 1 1 1 ...\n",
      " $ ksads_1_841_p          : Factor w/ 2 levels \"0\",\"1\": 1 1 1 1 1 1 1 1 1 1 ...\n",
      " $ ksads_1_842_p          : Factor w/ 2 levels \"0\",\"1\": 1 1 1 1 1 1 1 1 1 1 ...\n",
      " $ ksads_1_847_p          : Factor w/ 2 levels \"0\",\"1\": 1 1 1 1 1 1 1 1 1 1 ...\n",
      " $ ksads_1_846_p          : Factor w/ 2 levels \"0\",\"1\": 1 1 1 1 1 1 1 1 1 1 ...\n",
      " $ ksads_2_837_p          : Factor w/ 2 levels \"0\",\"1\": 1 1 1 1 1 1 1 1 1 1 ...\n",
      " $ ksads_2_836_p          : Factor w/ 2 levels \"0\",\"1\": 1 1 1 1 1 1 1 1 1 1 ...\n",
      " $ ksads_2_831_p          : Factor w/ 2 levels \"0\",\"1\": 1 1 1 1 1 1 1 1 1 1 ...\n",
      " $ ksads_2_832_p          : Factor w/ 2 levels \"0\",\"1\": 1 1 1 1 1 1 1 1 1 1 ...\n",
      " $ ksads_2_830_p          : Factor w/ 2 levels \"0\",\"1\": 1 1 1 1 1 1 1 1 1 1 ...\n",
      " $ ksads_2_833_p          : Factor w/ 2 levels \"0\",\"1\": 1 1 1 1 1 1 1 2 1 1 ...\n",
      " $ ksads_2_834_p          : Factor w/ 2 levels \"0\",\"1\": 1 1 1 1 1 1 1 1 1 1 ...\n",
      " $ ksads_2_839_p          : Factor w/ 2 levels \"0\",\"1\": 1 1 1 1 1 1 2 1 1 2 ...\n",
      " $ ksads_2_838_p          : Factor w/ 2 levels \"0\",\"1\": 1 1 1 1 1 1 1 1 1 1 ...\n",
      " $ ksads_3_848_p          : Factor w/ 2 levels \"0\",\"1\": NA NA NA 1 1 NA NA 1 1 NA ...\n",
      " $ ksads_4_851_p          : Factor w/ 2 levels \"0\",\"1\": 1 1 1 1 1 1 1 1 1 1 ...\n",
      " $ ksads_4_852_p          : Factor w/ 2 levels \"0\",\"1\": 1 1 1 1 1 1 1 1 1 1 ...\n",
      " $ ksads_4_826_p          : Factor w/ 2 levels \"0\",\"1\": 1 1 1 1 1 1 1 1 1 1 ...\n",
      " $ ksads_4_827_p          : Factor w/ 2 levels \"0\",\"1\": 1 1 1 1 1 1 1 1 1 1 ...\n",
      " $ ksads_4_829_p          : Factor w/ 2 levels \"0\",\"1\": 1 1 1 1 1 1 1 1 1 1 ...\n",
      " $ ksads_4_828_p          : Factor w/ 2 levels \"0\",\"1\": 1 1 1 1 1 1 1 1 1 1 ...\n",
      " $ ksads_4_850_p          : Factor w/ 2 levels \"0\",\"1\": 1 1 1 1 1 1 1 1 1 1 ...\n",
      " $ ksads_4_849_p          : Factor w/ 2 levels \"0\",\"1\": 1 1 1 1 1 1 1 1 1 1 ...\n",
      " $ ksads_5_906_p          : Factor w/ 2 levels \"0\",\"1\": 1 1 1 1 1 1 1 1 1 1 ...\n",
      " $ ksads_5_907_p          : Factor w/ 2 levels \"0\",\"1\": 1 1 1 1 1 1 1 1 1 1 ...\n",
      " $ ksads_5_857_p          : Factor w/ 2 levels \"0\",\"1\": 1 1 1 1 1 1 1 1 1 1 ...\n",
      " $ ksads_5_858_p          : Factor w/ 2 levels \"0\",\"1\": 1 1 1 1 1 1 1 1 1 1 ...\n",
      " $ ksads_6_859_p          : Factor w/ 2 levels \"0\",\"1\": NA NA NA 1 1 NA NA 1 1 NA ...\n",
      " $ ksads_6_860_p          : Factor w/ 2 levels \"0\",\"1\": NA NA NA 1 1 NA NA 1 1 NA ...\n",
      " $ ksads_7_861_p          : Factor w/ 2 levels \"0\",\"1\": 1 1 1 1 1 1 1 1 1 1 ...\n",
      " $ ksads_7_909_p          : Factor w/ 2 levels \"0\",\"1\": 1 1 1 1 1 1 1 1 1 1 ...\n",
      " $ ksads_7_910_p          : Factor w/ 2 levels \"0\",\"1\": 1 1 1 1 1 1 1 1 1 1 ...\n",
      " $ ksads_7_862_p          : Factor w/ 2 levels \"0\",\"1\": 1 1 1 1 1 1 1 1 1 1 ...\n",
      " $ ksads_8_864_p          : Factor w/ 2 levels \"0\",\"1\": 1 1 1 1 1 1 1 1 1 1 ...\n",
      " $ ksads_8_863_p          : Factor w/ 2 levels \"0\",\"1\": 1 1 1 1 1 1 1 1 1 1 ...\n",
      " $ ksads_8_912_p          : Factor w/ 2 levels \"0\",\"1\": 1 1 1 1 1 1 1 1 1 1 ...\n",
      " $ ksads_9_868_p          : Factor w/ 2 levels \"0\",\"1\": 1 1 1 1 1 1 1 1 1 1 ...\n",
      " $ ksads_9_867_p          : Factor w/ 2 levels \"0\",\"1\": 1 1 1 1 1 1 1 1 2 1 ...\n",
      " $ ksads_10_914_p         : Factor w/ 2 levels \"0\",\"1\": 1 1 1 1 1 1 1 1 1 1 ...\n",
      " $ ksads_10_913_p         : Factor w/ 2 levels \"0\",\"1\": 1 1 1 1 1 1 1 1 1 1 ...\n",
      " $ ksads_10_869_p         : Factor w/ 2 levels \"0\",\"1\": 1 1 1 1 1 1 1 1 2 1 ...\n",
      " $ ksads_10_870_p         : Factor w/ 2 levels \"0\",\"1\": 1 1 1 1 1 1 1 1 1 1 ...\n",
      " $ ksads_11_917_p         : Factor w/ 2 levels \"0\",\"1\": 1 1 2 1 1 1 1 1 1 1 ...\n",
      " $ ksads_11_918_p         : Factor w/ 2 levels \"0\",\"1\": 1 1 1 1 1 1 1 1 1 1 ...\n",
      " $ ksads_11_919_p         : Factor w/ 2 levels \"0\",\"1\": 1 1 1 1 1 1 1 1 1 1 ...\n",
      " $ ksads_11_920_p         : Factor w/ 2 levels \"0\",\"1\": 1 1 1 1 1 1 1 1 1 1 ...\n",
      " $ ksads_13_938_p         : Factor w/ 2 levels \"0\",\"1\": 1 1 1 1 1 1 1 1 1 1 ...\n",
      " $ ksads_13_934_p         : Factor w/ 2 levels \"0\",\"1\": 1 1 1 1 1 1 1 1 1 1 ...\n",
      " $ ksads_13_933_p         : Factor w/ 2 levels \"0\",\"1\": 1 1 1 1 1 1 1 1 1 1 ...\n",
      " $ ksads_13_932_p         : Factor w/ 2 levels \"0\",\"1\": 1 1 1 1 1 1 1 1 1 1 ...\n",
      " $ ksads_13_936_p         : Factor w/ 2 levels \"0\",\"1\": 1 1 1 1 1 1 1 1 1 1 ...\n",
      " $ ksads_13_935_p         : Factor w/ 2 levels \"0\",\"1\": 1 1 1 1 1 1 1 1 1 1 ...\n",
      " $ ksads_13_940_p         : Factor w/ 2 levels \"0\",\"1\": 1 1 1 1 1 1 1 1 1 1 ...\n",
      " $ ksads_13_943_p         : Factor w/ 2 levels \"0\",\"1\": 1 1 1 1 1 1 1 1 1 1 ...\n",
      " $ ksads_13_942_p         : Factor w/ 2 levels \"0\",\"1\": 1 1 1 1 1 1 1 1 1 1 ...\n",
      " $ ksads_13_944_p         : Factor w/ 2 levels \"0\",\"1\": 1 1 1 1 1 1 1 1 1 1 ...\n",
      " $ ksads_13_941_p         : Factor w/ 2 levels \"0\",\"1\": 1 1 1 1 1 1 1 1 1 1 ...\n",
      " $ ksads_14_856_p         : Factor w/ 2 levels \"0\",\"1\": 1 1 2 2 1 1 1 1 1 1 ...\n",
      " $ ksads_14_855_p         : Factor w/ 2 levels \"0\",\"1\": 1 1 1 1 1 1 1 1 1 1 ...\n",
      " $ ksads_14_853_p         : Factor w/ 2 levels \"0\",\"1\": 1 1 1 1 1 1 1 2 1 1 ...\n",
      " $ ksads_14_854_p         : Factor w/ 2 levels \"0\",\"1\": 1 1 1 1 1 1 1 1 1 1 ...\n",
      " $ ksads_15_901_p         : Factor w/ 2 levels \"0\",\"1\": 1 1 1 2 1 1 1 1 1 1 ...\n",
      " $ ksads_15_902_p         : Factor w/ 2 levels \"0\",\"1\": 1 1 2 1 1 1 1 2 1 1 ...\n",
      " $ ksads_16_900_p         : Factor w/ 2 levels \"0\",\"1\": 1 1 1 1 1 1 1 1 1 1 ...\n",
      " $ ksads_16_897_p         : Factor w/ 2 levels \"0\",\"1\": 1 1 1 1 1 1 1 2 1 1 ...\n",
      " $ ksads_16_899_p         : Factor w/ 2 levels \"0\",\"1\": 1 1 1 1 1 1 1 2 1 1 ...\n",
      " $ ksads_16_898_p         : Factor w/ 2 levels \"0\",\"1\": 1 1 1 1 1 1 1 1 1 1 ...\n",
      " $ ksads_18_903_p         : Factor w/ 2 levels \"0\",\"1\": 2 1 2 1 1 2 1 2 1 2 ...\n",
      " $ ksads_20_893_p         : Factor w/ 2 levels \"0\",\"1\": 1 1 1 1 1 1 1 1 1 1 ...\n",
      " $ ksads_20_872_p         : Factor w/ 2 levels \"0\",\"1\": 1 1 1 1 1 1 1 1 1 1 ...\n",
      " $ ksads_20_881_p         : Factor w/ 2 levels \"0\",\"1\": 1 1 1 1 1 1 1 1 1 1 ...\n",
      " $ ksads_20_889_p         : Factor w/ 2 levels \"0\",\"1\": 1 1 1 1 1 1 1 1 1 1 ...\n",
      " $ ksads_20_879_p         : Factor w/ 2 levels \"0\",\"1\": 1 1 1 1 1 1 1 1 1 1 ...\n",
      " $ ksads_20_882_p         : Factor w/ 2 levels \"0\",\"1\": 1 1 1 1 1 1 1 1 1 1 ...\n",
      " $ ksads_21_923_p         : Factor w/ 2 levels \"0\",\"1\": 1 1 1 1 1 1 1 1 1 1 ...\n",
      " $ ksads_21_924_p         : Factor w/ 2 levels \"0\",\"1\": 1 1 1 1 1 1 1 1 1 1 ...\n",
      " $ ksads_21_921_p         : Factor w/ 2 levels \"0\",\"1\": 1 1 1 1 1 1 1 1 1 1 ...\n",
      " $ ksads_21_922_p         : Factor w/ 2 levels \"0\",\"1\": 1 1 1 1 1 1 1 1 1 1 ...\n",
      " $ ksads_22_970_p         : Factor w/ 2 levels \"0\",\"1\": 1 1 1 1 1 2 1 1 1 1 ...\n",
      " $ ksads_22_969_p         : Factor w/ 2 levels \"0\",\"1\": 1 1 1 1 1 1 1 1 2 1 ...\n",
      " $ ksads_23_946_p         : Factor w/ 2 levels \"0\",\"1\": 1 1 1 1 1 1 1 1 1 1 ...\n",
      " $ ksads_23_957_p         : Factor w/ 2 levels \"0\",\"1\": 1 1 1 2 2 1 1 1 2 1 ...\n",
      " $ ksads_23_954_p         : Factor w/ 2 levels \"0\",\"1\": 1 1 1 1 1 1 1 1 1 1 ...\n",
      " $ ksads_23_965_p         : Factor w/ 2 levels \"0\",\"1\": 1 1 1 1 1 1 1 1 1 1 ...\n",
      " $ ksads_23_956_p         : Factor w/ 2 levels \"0\",\"1\": 1 1 1 1 1 1 1 1 1 1 ...\n",
      " $ ksads_23_945_p         : Factor w/ 2 levels \"0\",\"1\": 1 1 1 1 1 1 1 1 1 1 ...\n",
      " $ ksads_23_950_p         : Factor w/ 2 levels \"0\",\"1\": 1 1 1 1 1 1 1 1 1 1 ...\n",
      " $ ksads_23_961_p         : Factor w/ 2 levels \"0\",\"1\": 1 1 1 1 1 1 1 1 1 1 ...\n",
      " $ ksads_23_947_p         : Factor w/ 2 levels \"0\",\"1\": 1 1 1 1 1 1 1 1 1 1 ...\n",
      " $ ksads_23_958_p         : Factor w/ 2 levels \"0\",\"1\": 1 1 1 1 1 1 1 1 1 1 ...\n",
      " $ ksads_23_948_p         : Factor w/ 2 levels \"0\",\"1\": 1 1 1 1 1 1 1 1 1 1 ...\n",
      " $ ksads_23_959_p         : Factor w/ 2 levels \"0\",\"1\": 1 1 1 1 1 1 1 1 1 1 ...\n",
      " $ ksads_23_949_p         : Factor w/ 2 levels \"0\",\"1\": 1 1 1 1 1 1 1 1 1 1 ...\n",
      " $ ksads_23_960_p         : Factor w/ 2 levels \"0\",\"1\": 1 1 1 1 1 1 1 1 1 1 ...\n",
      "  [list output truncated]\n"
     ]
    }
   ],
   "source": [
    "# Merge ksads, cbcl and ssrs dataframes\n",
    "data <- merge(cbcl, df1, by = \"subjectkey\")\n",
    "data2 <- merge(data, df2, by = \"subjectkey\")\n",
    "str(data2)"
   ]
  },
  {
   "cell_type": "code",
   "execution_count": 18,
   "id": "prepared-correction",
   "metadata": {},
   "outputs": [
    {
     "data": {
      "text/html": [
       "9549"
      ],
      "text/latex": [
       "9549"
      ],
      "text/markdown": [
       "9549"
      ],
      "text/plain": [
       "[1] 9549"
      ]
     },
     "metadata": {},
     "output_type": "display_data"
    }
   ],
   "source": [
    "# cut offs for CBCL data\n",
    "df3 <- data2[(data2$cbcl_scr_syn_internal_t < 63) & (data2$cbcl_scr_syn_external_t < 63) & \n",
    "             (data2$cbcl_scr_syn_totprob_t < 63),]\n",
    "nrow(df3)"
   ]
  },
  {
   "cell_type": "code",
   "execution_count": 27,
   "id": "innovative-attribute",
   "metadata": {},
   "outputs": [
    {
     "data": {
      "text/html": [
       "<table class=\"dataframe\">\n",
       "<caption>A data.frame: 3 × 2</caption>\n",
       "<thead>\n",
       "\t<tr><th></th><th scope=col>na_count</th><th scope=col>Measure</th></tr>\n",
       "\t<tr><th></th><th scope=col>&lt;int&gt;</th><th scope=col>&lt;chr&gt;</th></tr>\n",
       "</thead>\n",
       "<tbody>\n",
       "\t<tr><th scope=row>ksads_3_848_p</th><td>4614</td><td>ksads_3_848_p</td></tr>\n",
       "\t<tr><th scope=row>ksads_6_859_p</th><td>4511</td><td>ksads_6_859_p</td></tr>\n",
       "\t<tr><th scope=row>ksads_6_860_p</th><td>4511</td><td>ksads_6_860_p</td></tr>\n",
       "</tbody>\n",
       "</table>\n"
      ],
      "text/latex": [
       "A data.frame: 3 × 2\n",
       "\\begin{tabular}{r|ll}\n",
       "  & na\\_count & Measure\\\\\n",
       "  & <int> & <chr>\\\\\n",
       "\\hline\n",
       "\tksads\\_3\\_848\\_p & 4614 & ksads\\_3\\_848\\_p\\\\\n",
       "\tksads\\_6\\_859\\_p & 4511 & ksads\\_6\\_859\\_p\\\\\n",
       "\tksads\\_6\\_860\\_p & 4511 & ksads\\_6\\_860\\_p\\\\\n",
       "\\end{tabular}\n"
      ],
      "text/markdown": [
       "\n",
       "A data.frame: 3 × 2\n",
       "\n",
       "| <!--/--> | na_count &lt;int&gt; | Measure &lt;chr&gt; |\n",
       "|---|---|---|\n",
       "| ksads_3_848_p | 4614 | ksads_3_848_p |\n",
       "| ksads_6_859_p | 4511 | ksads_6_859_p |\n",
       "| ksads_6_860_p | 4511 | ksads_6_860_p |\n",
       "\n"
      ],
      "text/plain": [
       "              na_count Measure      \n",
       "ksads_3_848_p 4614     ksads_3_848_p\n",
       "ksads_6_859_p 4511     ksads_6_859_p\n",
       "ksads_6_860_p 4511     ksads_6_860_p"
      ]
     },
     "metadata": {},
     "output_type": "display_data"
    }
   ],
   "source": [
    "na_count <-sapply(df3, function(y) sum(length(which(is.na(y)))))\n",
    "na_count <- data.frame(na_count)\n",
    "na_count$Measure <- row.names(na_count)\n",
    "na_count <- na_count[which(na_count$na_count > 150), ] #Problem - many NAs!!\n",
    "na_count\n",
    "#ksads_3_848_p - Disruptive Mood Dysregulation Disorder (DMDD)\n",
    "#ksads_6_859_p - Diagnosis - Agoraphobia Present\n",
    "#ksads_6_860_p - Diagnosis - Agoraphobia (F40.00) PAST"
   ]
  },
  {
   "cell_type": "code",
   "execution_count": 33,
   "id": "cooperative-title",
   "metadata": {},
   "outputs": [
    {
     "data": {
      "text/html": [
       "'/shared/project-brain-parcellation'"
      ],
      "text/latex": [
       "'/shared/project-brain-parcellation'"
      ],
      "text/markdown": [
       "'/shared/project-brain-parcellation'"
      ],
      "text/plain": [
       "[1] \"/shared/project-brain-parcellation\""
      ]
     },
     "metadata": {},
     "output_type": "display_data"
    },
    {
     "data": {
      "text/html": [
       "7621"
      ],
      "text/latex": [
       "7621"
      ],
      "text/markdown": [
       "7621"
      ],
      "text/plain": [
       "[1] 7621"
      ]
     },
     "metadata": {},
     "output_type": "display_data"
    },
    {
     "data": {
      "text/html": [
       "2911"
      ],
      "text/latex": [
       "2911"
      ],
      "text/markdown": [
       "2911"
      ],
      "text/plain": [
       "[1] 2911"
      ]
     },
     "metadata": {},
     "output_type": "display_data"
    }
   ],
   "source": [
    "df4 <- df3[ , grepl( \"ksads\" , names( df3 ) ) ]\n",
    "\n",
    "ind <- apply( df4 , 1 , function(x) any( x != '0') ) # any rows that aren't 0\n",
    "             \n",
    "df.na<- df3[ind , ]\n",
    "check <- df.na[complete.cases(df.na), ]\n",
    "             \n",
    "getwd()      \n",
    "nrow(df.na)\n",
    "nrow(check)\n",
    "             \n",
    "write.csv(check, file=\"adolescent-brain-parcellation/code/qc/subject_lists/No_psychopathology_nomissing.csv\")"
   ]
  },
  {
   "cell_type": "code",
   "execution_count": 32,
   "id": "unable-virtue",
   "metadata": {},
   "outputs": [
    {
     "data": {
      "text/html": [
       "'/shared/project-brain-parcellation'"
      ],
      "text/latex": [
       "'/shared/project-brain-parcellation'"
      ],
      "text/markdown": [
       "'/shared/project-brain-parcellation'"
      ],
      "text/plain": [
       "[1] \"/shared/project-brain-parcellation\""
      ]
     },
     "metadata": {},
     "output_type": "display_data"
    }
   ],
   "source": [
    "\n",
    "getwd() "
   ]
  },
  {
   "cell_type": "code",
   "execution_count": null,
   "id": "mexican-dairy",
   "metadata": {},
   "outputs": [],
   "source": []
  }
 ],
 "metadata": {
  "kernelspec": {
   "display_name": "R",
   "language": "R",
   "name": "ir"
  },
  "language_info": {
   "codemirror_mode": "r",
   "file_extension": ".r",
   "mimetype": "text/x-r-source",
   "name": "R",
   "pygments_lexer": "r",
   "version": "4.0.3"
  }
 },
 "nbformat": 4,
 "nbformat_minor": 5
}
